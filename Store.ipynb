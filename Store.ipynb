{
 "cells": [
  {
   "cell_type": "markdown",
   "metadata": {},
   "source": [
    "### Step One : Import packages"
   ]
  },
  {
   "cell_type": "code",
   "execution_count": 1,
   "metadata": {},
   "outputs": [],
   "source": [
    "import pandas as pd\n",
    "import sqlite3"
   ]
  },
  {
   "cell_type": "markdown",
   "metadata": {},
   "source": [
    "### Step Two : Connect with database file"
   ]
  },
  {
   "cell_type": "code",
   "execution_count": 2,
   "metadata": {},
   "outputs": [],
   "source": [
    "conn = sqlite3.connect('D:\\Data\\Files\\SQL\\store.db')"
   ]
  },
  {
   "cell_type": "markdown",
   "metadata": {},
   "source": [
    "### Step Three : Query each tables"
   ]
  },
  {
   "cell_type": "markdown",
   "metadata": {},
   "source": [
    "##### This is a customer address table"
   ]
  },
  {
   "cell_type": "code",
   "execution_count": 3,
   "metadata": {
    "scrolled": true
   },
   "outputs": [
    {
     "data": {
      "text/plain": [
       "customer_id    object\n",
       "address_id      int64\n",
       "line_1         object\n",
       "city           object\n",
       "country        object\n",
       "zipcode         int64\n",
       "dtype: object"
      ]
     },
     "execution_count": 3,
     "metadata": {},
     "output_type": "execute_result"
    }
   ],
   "source": [
    "cus_add = pd.read_sql_query(\"select * from Customer_Address\", conn)\n",
    "cus_add.dtypes"
   ]
  },
  {
   "cell_type": "markdown",
   "metadata": {},
   "source": [
    "##### This is a customer order products table"
   ]
  },
  {
   "cell_type": "code",
   "execution_count": 4,
   "metadata": {
    "scrolled": true
   },
   "outputs": [
    {
     "data": {
      "text/plain": [
       "order_id      object\n",
       "product_id    object\n",
       "qty            int64\n",
       "comment       object\n",
       "dtype: object"
      ]
     },
     "execution_count": 4,
     "metadata": {},
     "output_type": "execute_result"
    }
   ],
   "source": [
    "cus_ord_pro = pd.read_sql_query(\"select * from Customer_Order_Products\", conn)\n",
    "cus_ord_pro.dtypes"
   ]
  },
  {
   "cell_type": "markdown",
   "metadata": {},
   "source": [
    "##### This is a customer orders table"
   ]
  },
  {
   "cell_type": "code",
   "execution_count": 5,
   "metadata": {
    "scrolled": false
   },
   "outputs": [
    {
     "data": {
      "text/plain": [
       "order_id                   object\n",
       "customer_id                object\n",
       "customer_payment_method    object\n",
       "order_status_code          object\n",
       "order_date                 object\n",
       "paid_date                  object\n",
       "der_total_order_price      object\n",
       "other_order_detail         object\n",
       "ship_date                  object\n",
       "dtype: object"
      ]
     },
     "execution_count": 5,
     "metadata": {},
     "output_type": "execute_result"
    }
   ],
   "source": [
    "cus_ord = pd.read_sql_query(\"select * from Customer_Orders\",conn)\n",
    "cus_ord.dtypes"
   ]
  },
  {
   "cell_type": "markdown",
   "metadata": {},
   "source": [
    "##### This is a customers table"
   ]
  },
  {
   "cell_type": "code",
   "execution_count": 6,
   "metadata": {},
   "outputs": [
    {
     "data": {
      "text/plain": [
       "customer_id    object\n",
       "first_name     object\n",
       "last_name      object\n",
       "cust_phone     object\n",
       "cust_email     object\n",
       "dtype: object"
      ]
     },
     "execution_count": 6,
     "metadata": {},
     "output_type": "execute_result"
    }
   ],
   "source": [
    "cus = pd.read_sql_query(\"select * from Customers\",conn)\n",
    "cus.dtypes"
   ]
  },
  {
   "cell_type": "markdown",
   "metadata": {},
   "source": [
    "##### This is a products table"
   ]
  },
  {
   "cell_type": "code",
   "execution_count": 7,
   "metadata": {},
   "outputs": [
    {
     "data": {
      "text/plain": [
       "product_id           object\n",
       "product_type_code    object\n",
       "supplier_code        object\n",
       "product_name         object\n",
       "dtype: object"
      ]
     },
     "execution_count": 7,
     "metadata": {},
     "output_type": "execute_result"
    }
   ],
   "source": [
    "pro = pd.read_sql_query(\"select * from Products\",conn)\n",
    "pro.dtypes"
   ]
  },
  {
   "cell_type": "markdown",
   "metadata": {},
   "source": [
    "##### This is a products price table"
   ]
  },
  {
   "cell_type": "code",
   "execution_count": 8,
   "metadata": {},
   "outputs": [
    {
     "data": {
      "text/plain": [
       "product_id       object\n",
       "date_from        object\n",
       "product_price    object\n",
       "dtype: object"
      ]
     },
     "execution_count": 8,
     "metadata": {},
     "output_type": "execute_result"
    }
   ],
   "source": [
    "pro_pri = pd.read_sql_query(\"select * from Products_Price\",conn)\n",
    "pro_pri.dtypes"
   ]
  },
  {
   "cell_type": "markdown",
   "metadata": {},
   "source": [
    "##### This is a suppliers table"
   ]
  },
  {
   "cell_type": "code",
   "execution_count": 9,
   "metadata": {},
   "outputs": [
    {
     "data": {
      "text/plain": [
       "supplier_code    object\n",
       "supplier_name    object\n",
       "dtype: object"
      ]
     },
     "execution_count": 9,
     "metadata": {},
     "output_type": "execute_result"
    }
   ],
   "source": [
    "sup = pd.read_sql_query(\"select * from Suppliers\",conn)\n",
    "sup.dtypes"
   ]
  },
  {
   "cell_type": "markdown",
   "metadata": {},
   "source": [
    "### Questions !!!"
   ]
  },
  {
   "cell_type": "markdown",
   "metadata": {},
   "source": [
    "##### 1) Who are the best customer that highest order of your company?"
   ]
  },
  {
   "cell_type": "code",
   "execution_count": 10,
   "metadata": {},
   "outputs": [
    {
     "data": {
      "text/html": [
       "<div>\n",
       "<style scoped>\n",
       "    .dataframe tbody tr th:only-of-type {\n",
       "        vertical-align: middle;\n",
       "    }\n",
       "\n",
       "    .dataframe tbody tr th {\n",
       "        vertical-align: top;\n",
       "    }\n",
       "\n",
       "    .dataframe thead th {\n",
       "        text-align: right;\n",
       "    }\n",
       "</style>\n",
       "<table border=\"1\" class=\"dataframe\">\n",
       "  <thead>\n",
       "    <tr style=\"text-align: right;\">\n",
       "      <th></th>\n",
       "      <th>first_name</th>\n",
       "      <th>paid_date</th>\n",
       "      <th>totalSpend</th>\n",
       "    </tr>\n",
       "  </thead>\n",
       "  <tbody>\n",
       "    <tr>\n",
       "      <th>0</th>\n",
       "      <td>Kiley</td>\n",
       "      <td>16-Feb-17</td>\n",
       "      <td>549.0</td>\n",
       "    </tr>\n",
       "  </tbody>\n",
       "</table>\n",
       "</div>"
      ],
      "text/plain": [
       "  first_name  paid_date  totalSpend\n",
       "0      Kiley  16-Feb-17       549.0"
      ]
     },
     "execution_count": 10,
     "metadata": {},
     "output_type": "execute_result"
    }
   ],
   "source": [
    "ans1 = pd.read_sql_query('''SELECT\n",
    "                            first_name,\n",
    "                            paid_date,\n",
    "                            SUM(der_total_order_price) totalSpend\n",
    "                            FROM (\n",
    "                            SELECT * FROM Customers A\n",
    "                            LEFT JOIN Customer_Orders B \n",
    "                            on A.customer_id=B.customer_id\n",
    "                            WHERE paid_date is not NULL\n",
    "                            )\n",
    "                            GROUP BY 1\n",
    "                            ORDER BY 3 DESC\n",
    "                            LIMIT 1;''', conn)\n",
    "ans1"
   ]
  },
  {
   "cell_type": "markdown",
   "metadata": {},
   "source": [
    "##### 2) Provide SQL Statement for invoice to Mr.Meaghan?"
   ]
  },
  {
   "cell_type": "code",
   "execution_count": 11,
   "metadata": {},
   "outputs": [
    {
     "data": {
      "text/html": [
       "<div>\n",
       "<style scoped>\n",
       "    .dataframe tbody tr th:only-of-type {\n",
       "        vertical-align: middle;\n",
       "    }\n",
       "\n",
       "    .dataframe tbody tr th {\n",
       "        vertical-align: top;\n",
       "    }\n",
       "\n",
       "    .dataframe thead th {\n",
       "        text-align: right;\n",
       "    }\n",
       "</style>\n",
       "<table border=\"1\" class=\"dataframe\">\n",
       "  <thead>\n",
       "    <tr style=\"text-align: right;\">\n",
       "      <th></th>\n",
       "      <th>customer_id</th>\n",
       "      <th>first_name</th>\n",
       "      <th>order_id</th>\n",
       "      <th>totalPrice</th>\n",
       "    </tr>\n",
       "  </thead>\n",
       "  <tbody>\n",
       "    <tr>\n",
       "      <th>0</th>\n",
       "      <td>C00005</td>\n",
       "      <td>Meaghan</td>\n",
       "      <td>O00012</td>\n",
       "      <td>277.0</td>\n",
       "    </tr>\n",
       "  </tbody>\n",
       "</table>\n",
       "</div>"
      ],
      "text/plain": [
       "  customer_id first_name order_id  totalPrice\n",
       "0      C00005    Meaghan   O00012       277.0"
      ]
     },
     "execution_count": 11,
     "metadata": {},
     "output_type": "execute_result"
    }
   ],
   "source": [
    "ans2 = pd.read_sql_query('''SELECT\n",
    "                                E.customer_id,\n",
    "                                E.first_name,\n",
    "                                F.order_id,\n",
    "                                sum(F.product_price*f.qty) totalPrice\n",
    "                            FROM Customers E\n",
    "                            INNER JOIN\n",
    "                                (\n",
    "                                SELECT \n",
    "                                    *\n",
    "                                FROM Customer_Orders C\n",
    "                                LEFT JOIN\n",
    "                                    (\n",
    "                                    SELECT \n",
    "                                        A.product_price,\n",
    "                                        A.product_id,\n",
    "                                        B.order_id,\n",
    "                                        b.qty\n",
    "                                    FROM (SELECT *\n",
    "                                            FROM Products_Price\n",
    "                                            GROUP by product_id\n",
    "                                            HAVING max(date_from)) A \n",
    "                                    LEFT JOIN Customer_Order_Products B \n",
    "                                    on A.product_id=B.product_id\n",
    "                                    ) D\n",
    "                                on C.order_id=D.order_id\n",
    "                                ) F\n",
    "                            ON E.customer_id=F.customer_id\n",
    "                            WHERE first_name='Meaghan';''', conn)\n",
    "ans2"
   ]
  },
  {
   "cell_type": "markdown",
   "metadata": {},
   "source": [
    "##### 3) Provide SQL Statement to list the address of customer for support DHL team?"
   ]
  },
  {
   "cell_type": "code",
   "execution_count": 12,
   "metadata": {},
   "outputs": [
    {
     "data": {
      "text/html": [
       "<div>\n",
       "<style scoped>\n",
       "    .dataframe tbody tr th:only-of-type {\n",
       "        vertical-align: middle;\n",
       "    }\n",
       "\n",
       "    .dataframe tbody tr th {\n",
       "        vertical-align: top;\n",
       "    }\n",
       "\n",
       "    .dataframe thead th {\n",
       "        text-align: right;\n",
       "    }\n",
       "</style>\n",
       "<table border=\"1\" class=\"dataframe\">\n",
       "  <thead>\n",
       "    <tr style=\"text-align: right;\">\n",
       "      <th></th>\n",
       "      <th>first_name</th>\n",
       "      <th>Address</th>\n",
       "      <th>product_name</th>\n",
       "      <th>supplier_name</th>\n",
       "    </tr>\n",
       "  </thead>\n",
       "  <tbody>\n",
       "    <tr>\n",
       "      <th>0</th>\n",
       "      <td>Graciela</td>\n",
       "      <td>98 Cinnecticut Ave Nw Chagrin Falls Geauga 44023</td>\n",
       "      <td>Canon Inkjet</td>\n",
       "      <td>Feltz Printing Service</td>\n",
       "    </tr>\n",
       "    <tr>\n",
       "      <th>1</th>\n",
       "      <td>Cammy</td>\n",
       "      <td>56 E Morehead St Laredo Webb 78045</td>\n",
       "      <td>Kingston RAM 16GB DDR4</td>\n",
       "      <td>Printing Dimensions</td>\n",
       "    </tr>\n",
       "    <tr>\n",
       "      <th>2</th>\n",
       "      <td>Graciela</td>\n",
       "      <td>98 Cinnecticut Ave Nw Chagrin Falls Geauga 44023</td>\n",
       "      <td>HP Inkjet</td>\n",
       "      <td>Feltz Printing Service</td>\n",
       "    </tr>\n",
       "    <tr>\n",
       "      <th>3</th>\n",
       "      <td>Gladys</td>\n",
       "      <td>322 New Horizon Blvd Milwaukee Milwaukee 53207</td>\n",
       "      <td>Canon Inkjet</td>\n",
       "      <td>Feltz Printing Service</td>\n",
       "    </tr>\n",
       "    <tr>\n",
       "      <th>4</th>\n",
       "      <td>Cammy</td>\n",
       "      <td>56 E Morehead St Laredo Webb 78045</td>\n",
       "      <td>Canon Inkjet</td>\n",
       "      <td>Feltz Printing Service</td>\n",
       "    </tr>\n",
       "    <tr>\n",
       "      <th>5</th>\n",
       "      <td>Cammy</td>\n",
       "      <td>56 E Morehead St Laredo Webb 78045</td>\n",
       "      <td>Kingston RAM 16GB DDR4</td>\n",
       "      <td>Printing Dimensions</td>\n",
       "    </tr>\n",
       "  </tbody>\n",
       "</table>\n",
       "</div>"
      ],
      "text/plain": [
       "  first_name                                           Address  \\\n",
       "0   Graciela  98 Cinnecticut Ave Nw Chagrin Falls Geauga 44023   \n",
       "1      Cammy                56 E Morehead St Laredo Webb 78045   \n",
       "2   Graciela  98 Cinnecticut Ave Nw Chagrin Falls Geauga 44023   \n",
       "3     Gladys    322 New Horizon Blvd Milwaukee Milwaukee 53207   \n",
       "4      Cammy                56 E Morehead St Laredo Webb 78045   \n",
       "5      Cammy                56 E Morehead St Laredo Webb 78045   \n",
       "\n",
       "             product_name           supplier_name  \n",
       "0            Canon Inkjet  Feltz Printing Service  \n",
       "1  Kingston RAM 16GB DDR4     Printing Dimensions  \n",
       "2               HP Inkjet  Feltz Printing Service  \n",
       "3            Canon Inkjet  Feltz Printing Service  \n",
       "4            Canon Inkjet  Feltz Printing Service  \n",
       "5  Kingston RAM 16GB DDR4     Printing Dimensions  "
      ]
     },
     "execution_count": 12,
     "metadata": {},
     "output_type": "execute_result"
    }
   ],
   "source": [
    "ans3 = pd.read_sql_query('''SELECT\n",
    "                                J.first_name,\n",
    "                                I.line_1 || ' ' || I.city || ' ' || I.country || ' ' || I.zipcode as Address,\n",
    "                                J.product_name,\n",
    "                                j.supplier_name\n",
    "                                FROM Customer_Address I\n",
    "                            INNER JOIN\n",
    "                            (\n",
    "                            SELECT\n",
    "                                H.first_name,\n",
    "                                G.customer_id,\n",
    "                                G.product_name,\n",
    "                                G.supplier_name\n",
    "                            FROM Customers H\n",
    "                            INNER JOIN\n",
    "                            (\n",
    "                            SELECT\n",
    "                                F.customer_id,\n",
    "                                E.product_name,\n",
    "                                E.supplier_name\n",
    "                            FROM\n",
    "                            Customer_Orders F\n",
    "                            INNER JOIN\n",
    "                            (\n",
    "                            SELECT\n",
    "                                C.order_id,\n",
    "                                D.product_name,\n",
    "                                D.supplier_name\n",
    "                            FROM Customer_Order_Products C\n",
    "                            INNER JOIN\n",
    "                            (\n",
    "                            SELECT \n",
    "                                A.product_id,\n",
    "                                A.product_name,\n",
    "                                B.supplier_name\n",
    "                            FROM Products A \n",
    "                            INNER JOIN Suppliers B \n",
    "                            on A.supplier_code=B.supplier_code\n",
    "                            ) D\n",
    "                            on C.product_id=D.product_id\n",
    "                            ) E\n",
    "                            on F.order_id=E.order_id\n",
    "                            WHERE ship_date IS NOT NULL\n",
    "                            ) G\n",
    "                            on H.customer_id=G.customer_id\n",
    "                            ) J\n",
    "                            on i.customer_id=j.customer_id\n",
    "                            ;''', conn)\n",
    "ans3"
   ]
  },
  {
   "cell_type": "markdown",
   "metadata": {},
   "source": [
    "##### 4) From Information of Data. Please summary lost opportunity of your company?"
   ]
  },
  {
   "cell_type": "code",
   "execution_count": 13,
   "metadata": {},
   "outputs": [
    {
     "data": {
      "text/html": [
       "<div>\n",
       "<style scoped>\n",
       "    .dataframe tbody tr th:only-of-type {\n",
       "        vertical-align: middle;\n",
       "    }\n",
       "\n",
       "    .dataframe tbody tr th {\n",
       "        vertical-align: top;\n",
       "    }\n",
       "\n",
       "    .dataframe thead th {\n",
       "        text-align: right;\n",
       "    }\n",
       "</style>\n",
       "<table border=\"1\" class=\"dataframe\">\n",
       "  <thead>\n",
       "    <tr style=\"text-align: right;\">\n",
       "      <th></th>\n",
       "      <th>totalLost</th>\n",
       "    </tr>\n",
       "  </thead>\n",
       "  <tbody>\n",
       "    <tr>\n",
       "      <th>0</th>\n",
       "      <td>2289.0</td>\n",
       "    </tr>\n",
       "  </tbody>\n",
       "</table>\n",
       "</div>"
      ],
      "text/plain": [
       "   totalLost\n",
       "0     2289.0"
      ]
     },
     "execution_count": 13,
     "metadata": {},
     "output_type": "execute_result"
    }
   ],
   "source": [
    "ans4 = pd.read_sql_query('''SELECT\n",
    "                            sum(der_total_order_price) totalLost\n",
    "                            FROM Customer_Orders\n",
    "                            WHERE order_status_code \n",
    "                            IN ('Canceled','Declined');''', conn)\n",
    "ans4"
   ]
  },
  {
   "cell_type": "markdown",
   "metadata": {},
   "source": [
    "##### 5) Please provide SQL statement to find the best seller of the top five product in every month?"
   ]
  },
  {
   "cell_type": "code",
   "execution_count": 14,
   "metadata": {},
   "outputs": [
    {
     "data": {
      "text/html": [
       "<div>\n",
       "<style scoped>\n",
       "    .dataframe tbody tr th:only-of-type {\n",
       "        vertical-align: middle;\n",
       "    }\n",
       "\n",
       "    .dataframe tbody tr th {\n",
       "        vertical-align: top;\n",
       "    }\n",
       "\n",
       "    .dataframe thead th {\n",
       "        text-align: right;\n",
       "    }\n",
       "</style>\n",
       "<table border=\"1\" class=\"dataframe\">\n",
       "  <thead>\n",
       "    <tr style=\"text-align: right;\">\n",
       "      <th></th>\n",
       "      <th>product_name</th>\n",
       "      <th>qty</th>\n",
       "    </tr>\n",
       "  </thead>\n",
       "  <tbody>\n",
       "    <tr>\n",
       "      <th>0</th>\n",
       "      <td>Sandisk RAM 8GB DDR4</td>\n",
       "      <td>4</td>\n",
       "    </tr>\n",
       "    <tr>\n",
       "      <th>1</th>\n",
       "      <td>Canon Inkjet</td>\n",
       "      <td>3</td>\n",
       "    </tr>\n",
       "    <tr>\n",
       "      <th>2</th>\n",
       "      <td>Canon Inkjet</td>\n",
       "      <td>2</td>\n",
       "    </tr>\n",
       "    <tr>\n",
       "      <th>3</th>\n",
       "      <td>Canon Inkjet</td>\n",
       "      <td>2</td>\n",
       "    </tr>\n",
       "    <tr>\n",
       "      <th>4</th>\n",
       "      <td>HP Inkjet</td>\n",
       "      <td>2</td>\n",
       "    </tr>\n",
       "  </tbody>\n",
       "</table>\n",
       "</div>"
      ],
      "text/plain": [
       "           product_name  qty\n",
       "0  Sandisk RAM 8GB DDR4    4\n",
       "1          Canon Inkjet    3\n",
       "2          Canon Inkjet    2\n",
       "3          Canon Inkjet    2\n",
       "4             HP Inkjet    2"
      ]
     },
     "execution_count": 14,
     "metadata": {},
     "output_type": "execute_result"
    }
   ],
   "source": [
    "ans5 = pd.read_sql_query('''SELECT \n",
    "                                A.product_name,\n",
    "                                B.qty\n",
    "                            FROM Products A\n",
    "                            INNER JOIN Customer_Order_Products B\n",
    "                            on A.product_id=B.product_id\n",
    "                            ORDER BY qty DESC\n",
    "                            LIMIT 5;''', conn)\n",
    "ans5"
   ]
  }
 ],
 "metadata": {
  "kernelspec": {
   "display_name": "Python 3",
   "language": "python",
   "name": "python3"
  },
  "language_info": {
   "codemirror_mode": {
    "name": "ipython",
    "version": 3
   },
   "file_extension": ".py",
   "mimetype": "text/x-python",
   "name": "python",
   "nbconvert_exporter": "python",
   "pygments_lexer": "ipython3",
   "version": "3.7.6"
  }
 },
 "nbformat": 4,
 "nbformat_minor": 4
}
